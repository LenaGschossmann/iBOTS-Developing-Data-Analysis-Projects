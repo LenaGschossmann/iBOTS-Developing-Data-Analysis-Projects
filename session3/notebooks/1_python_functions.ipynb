{
 "cells": [
  {
   "cell_type": "markdown",
   "metadata": {},
   "source": [
    "## Organizing Code for Readability and Reusability: Functions\n",
    "\n",
    "Whether you're writing code in a jupyter notebook or in a script, eventually your code will get long enough that it becomes a challenge to keep it understandable and easy to find useful pieces to reuse in other projects.\n",
    "\n",
    "The most common way of organizing code is to break it into into smaller functions. To make a function, you need to tell Python:\n",
    "\n",
    "- The function's name,\n",
    "- The inputs (a.k.a \"arguments\") that the function needs to do its work, and\n",
    "- The output (a.k.a. \"return value\") that the function will give to whatever code that called it."
   ]
  },
  {
   "cell_type": "markdown",
   "metadata": {},
   "source": [
    "**Example**: Create a function called `add` that adds two numbers and returns the result."
   ]
  },
  {
   "cell_type": "code",
   "execution_count": 1,
   "metadata": {},
   "outputs": [],
   "source": [
    "def add(x, y):   # Define a function name and its arguments x and y\n",
    "    z = x + y    # Make calculations in the function body\n",
    "    return z     # \"Return\" data out of the function."
   ]
  },
  {
   "cell_type": "code",
   "execution_count": 2,
   "metadata": {},
   "outputs": [
    {
     "data": {
      "text/plain": [
       "8"
      ]
     },
     "execution_count": 2,
     "metadata": {},
     "output_type": "execute_result"
    }
   ],
   "source": [
    "result = add(5, 3)  # Then the function can be called again, changing the argument values for whatever you want!\n",
    "\n",
    "result"
   ]
  },
  {
   "cell_type": "markdown",
   "metadata": {},
   "source": [
    "**Exercise**: Create a function called `multiply` that multiplies two numbers and returns the result."
   ]
  },
  {
   "cell_type": "code",
   "execution_count": 3,
   "metadata": {},
   "outputs": [],
   "source": [
    "def multiply(num1, num2):\n",
    "    return num1*num2"
   ]
  },
  {
   "cell_type": "markdown",
   "metadata": {},
   "source": [
    "**Exercise**: Create a function called `calculate_mean` that takes a list of numbers as input and returns the mean. Please do not use numpy for this :)"
   ]
  },
  {
   "cell_type": "code",
   "execution_count": 26,
   "metadata": {},
   "outputs": [
    {
     "data": {
      "text/plain": [
       "2.5"
      ]
     },
     "execution_count": 26,
     "metadata": {},
     "output_type": "execute_result"
    }
   ],
   "source": [
    "def calculate_mean(numlist):\n",
    "    if isinstance(numlist,list):\n",
    "        return sum(numlist)/len(numlist)\n",
    "\n",
    "calculate_mean([1,2,3,4])"
   ]
  },
  {
   "cell_type": "markdown",
   "metadata": {},
   "source": [
    "---"
   ]
  },
  {
   "cell_type": "markdown",
   "metadata": {},
   "source": [
    "### Packaging Code into Functions as Refactoring\n",
    "\n",
    "Because writing functions is often done during a refactoring (reorganizing) process in writing code, let's practice refactoring by taking code that already works and changing it into a function."
   ]
  },
  {
   "cell_type": "markdown",
   "metadata": {},
   "source": [
    "**Example**: Make a function out of the code below, so the following line works:\n",
    "```python\n",
    "c = subtract(5, 3)`\n",
    "```"
   ]
  },
  {
   "cell_type": "code",
   "execution_count": 8,
   "metadata": {},
   "outputs": [
    {
     "data": {
      "text/plain": [
       "8"
      ]
     },
     "execution_count": 8,
     "metadata": {},
     "output_type": "execute_result"
    }
   ],
   "source": [
    "a = 10\n",
    "b = 2\n",
    "result = a - b\n",
    "result"
   ]
  },
  {
   "cell_type": "code",
   "execution_count": 9,
   "metadata": {},
   "outputs": [
    {
     "data": {
      "text/plain": [
       "2"
      ]
     },
     "execution_count": 9,
     "metadata": {},
     "output_type": "execute_result"
    }
   ],
   "source": [
    "def subtract(a, b):\n",
    "    result = a - b\n",
    "    return result\n",
    "\n",
    "c = subtract(5, 3)\n",
    "c"
   ]
  },
  {
   "cell_type": "markdown",
   "metadata": {},
   "source": [
    "**Exercise**: Make a function out of the code below, so the following line works:\n",
    "\n",
    "```python\n",
    "numbers = [1, 2, 3, 4, 5]\n",
    "std = calculate_std(numbers)\n",
    "```"
   ]
  },
  {
   "cell_type": "code",
   "execution_count": null,
   "metadata": {},
   "outputs": [],
   "source": [
    "mean = calculate_mean(numbers)\n",
    "variance = sum([(x - mean) ** 2 for x in numbers]) / len(numbers)\n",
    "std = variance ** 0.5"
   ]
  },
  {
   "cell_type": "code",
   "execution_count": 28,
   "metadata": {},
   "outputs": [
    {
     "data": {
      "text/plain": [
       "1.4142135623730951"
      ]
     },
     "execution_count": 28,
     "metadata": {},
     "output_type": "execute_result"
    }
   ],
   "source": [
    "def calculate_std(numbers):\n",
    "    mean = calculate_mean(numbers)\n",
    "    variance = sum([(x - mean) ** 2 for x in numbers]) / len(numbers)\n",
    "    std = variance ** 0.5\n",
    "    return std\n",
    "\n",
    "calculate_std([1,2,3,4,5])"
   ]
  },
  {
   "cell_type": "markdown",
   "metadata": {},
   "source": [
    "**Exercise**: Make a function out of the code below, so the following line works:\n",
    "\n",
    "```python\n",
    "numbers = [1, 2, 3, 4, 5]\n",
    "median = calculate_median(numbers)\n",
    "```"
   ]
  },
  {
   "cell_type": "code",
   "execution_count": 12,
   "metadata": {},
   "outputs": [
    {
     "data": {
      "text/plain": [
       "3"
      ]
     },
     "execution_count": 12,
     "metadata": {},
     "output_type": "execute_result"
    }
   ],
   "source": [
    "numbers = [3, 1, 4, 2, 5]\n",
    "\n",
    "numbers.sort()\n",
    "n = len(numbers)\n",
    "mid = n // 2\n",
    "if n % 2 == 0:\n",
    "    median = (numbers[mid - 1] + numbers[mid]) / 2\n",
    "else:\n",
    "    median = numbers[mid]\n",
    "\n",
    "median"
   ]
  },
  {
   "cell_type": "code",
   "execution_count": 27,
   "metadata": {},
   "outputs": [
    {
     "data": {
      "text/plain": [
       "3"
      ]
     },
     "execution_count": 27,
     "metadata": {},
     "output_type": "execute_result"
    }
   ],
   "source": [
    "def calculate_median(numbers):\n",
    "    numbers.sort()\n",
    "    n = len(numbers)\n",
    "    mid = n // 2\n",
    "    if n % 2 == 0:\n",
    "        median = (numbers[mid - 1] + numbers[mid]) / 2\n",
    "    else:\n",
    "        median = numbers[mid]\n",
    "    return median\n",
    "\n",
    "calculate_median([3, 1, 4, 2, 5])"
   ]
  },
  {
   "cell_type": "markdown",
   "metadata": {},
   "source": [
    "**Exercise**: Below we have some code to plot a historgram of a numpy array. Can you turn it into a function such that we can use it as `plot_histogram(data, nbins=50)`?"
   ]
  },
  {
   "cell_type": "code",
   "execution_count": 13,
   "metadata": {},
   "outputs": [
    {
     "data": {
      "image/png": "[encoded data removed]",
      "text/plain": [
       "<Figure size 432x288 with 1 Axes>"
      ]
     },
     "metadata": {
      "needs_background": "light"
     },
     "output_type": "display_data"
    }
   ],
   "source": [
    "import numpy as np\n",
    "data = np.random.randn(1000)\n",
    "\n",
    "nbins = 20\n",
    "\n",
    "import matplotlib.pyplot as plt\n",
    "figure, ax = plt.subplots(ncols=1, nrows=1)\n",
    "ax.hist(data, bins=nbins);"
   ]
  },
  {
   "cell_type": "code",
   "execution_count": 19,
   "metadata": {},
   "outputs": [
    {
     "data": {
      "image/png": "[encoded data removed]",
      "text/plain": [
       "<Figure size 432x288 with 1 Axes>"
      ]
     },
     "metadata": {
      "needs_background": "light"
     },
     "output_type": "display_data"
    }
   ],
   "source": [
    "def plot_histogram(data, nbins=50):\n",
    "    figure, ax = plt.subplots(ncols=1, nrows=1)\n",
    "    ax.hist(data, bins=nbins)\n",
    "    \n",
    "data = np.random.randn(1000)\n",
    "plot_histogram(data, 50)"
   ]
  },
  {
   "cell_type": "markdown",
   "metadata": {},
   "source": [
    "---"
   ]
  },
  {
   "cell_type": "markdown",
   "metadata": {},
   "source": [
    "### Functions with Optional Arguments"
   ]
  },
  {
   "cell_type": "markdown",
   "metadata": {},
   "source": [
    "**Example**: Create a function that by default converts a temperature value in Celcius to Fahrenheit, but the user can convert it to Kelvin by specifying the corresponding input argument."
   ]
  },
  {
   "cell_type": "code",
   "execution_count": 20,
   "metadata": {},
   "outputs": [],
   "source": [
    "def convert_celcius(temp, to='fahrenheit'):\n",
    "    if to == 'fahrenheit':\n",
    "        return temp * 9/5 + 32\n",
    "    elif to == 'kelvin':\n",
    "        return temp + 273.15\n",
    "    else:\n",
    "        return \"Unknown scale\""
   ]
  },
  {
   "cell_type": "markdown",
   "metadata": {},
   "source": [
    "**Exercise**: Modify the `plot_histogram()` function such that we can optionally also specify the color of the histogram: `plot_histogram(data, nbins=50, color=\"crimson\")`. Default color should be black."
   ]
  },
  {
   "cell_type": "code",
   "execution_count": 24,
   "metadata": {},
   "outputs": [
    {
     "data": {
      "image/png": "[encoded data removed]",
      "text/plain": [
       "<Figure size 432x288 with 1 Axes>"
      ]
     },
     "metadata": {
      "needs_background": "light"
     },
     "output_type": "display_data"
    }
   ],
   "source": [
    "def plot_histogram(data, nbins=50, color='black'):\n",
    "    figure, ax = plt.subplots(ncols=1, nrows=1)\n",
    "    ax.hist(data, bins=nbins, color=color)\n",
    "\n",
    "plot_histogram(data, 50, 'red')"
   ]
  },
  {
   "cell_type": "markdown",
   "metadata": {},
   "source": [
    "**Exercise**: Create a function, called `compute_stat()`, that by default computes the mean, but when the `kind` argument is specified it can also compute standard deviation or median. Inside this function, make use of the functions you already defined in the previous exercises."
   ]
  },
  {
   "cell_type": "code",
   "execution_count": 29,
   "metadata": {},
   "outputs": [
    {
     "data": {
      "text/plain": [
       "4.571428571428571"
      ]
     },
     "execution_count": 29,
     "metadata": {},
     "output_type": "execute_result"
    }
   ],
   "source": [
    "def compute_stat(data, kind='mean'):\n",
    "    if kind == 'mean':\n",
    "        return calculate_mean(data)\n",
    "    elif kind == 'std':\n",
    "        return calculate_std(data)\n",
    "    elif kind == 'median':\n",
    "        return calculate_median(data)\n",
    "\n",
    "numbers = [1,4,3,4,5,9,6]\n",
    "compute_stat(numbers)"
   ]
  },
  {
   "cell_type": "markdown",
   "metadata": {},
   "source": [
    "**Exercise**: Create a function that by default normalizes the data between 0 and 1, but the user can optionally also specify a lower value and/or and upper value so that the data will be normalized accordingly."
   ]
  },
  {
   "cell_type": "code",
   "execution_count": 42,
   "metadata": {},
   "outputs": [
    {
     "data": {
      "text/plain": [
       "[15.0, 24.0, 27.0]"
      ]
     },
     "execution_count": 42,
     "metadata": {},
     "output_type": "execute_result"
    }
   ],
   "source": [
    "def normalize_data(data, lower=0, upper=1):\n",
    "    min_val = min(data)\n",
    "    \n",
    "    data = np.array(data) - min_val\n",
    "\n",
    "    max_val = max(data)\n",
    "    data = (data / max_val)\n",
    "\n",
    "    data = (data + lower) * (upper-lower)\n",
    "\n",
    "    return list(data)\n",
    "\n",
    "normalize_data([1,4,5], lower=5, upper=20)"
   ]
  },
  {
   "cell_type": "markdown",
   "metadata": {},
   "source": [
    "---"
   ]
  },
  {
   "cell_type": "markdown",
   "metadata": {},
   "source": [
    "### Function description (i.e. docstring)\n",
    "\n",
    "When sharing our project with others such that they use the functions we have created, it would be nice to provide some documentation for the function such that the user can just refer to the documentation and get an understanding of how to use it:\n",
    "- what does the function do on a high level?\n",
    "- what is each input argument?\n",
    "- what type should each input argument be?\n",
    "- what does the function return?\n",
    "- what is the type of the variable that the function returns?\n",
    "\n",
    "the description of a function is usually referred to the \"docstring\" which stands for documentation string.\n",
    "\n",
    "If we look at commonly used packages such as Numpy and Pandas pretty much all of the methods they have has an extensive docstring. Let's see some examples:"
   ]
  },
  {
   "cell_type": "markdown",
   "metadata": {},
   "source": [
    "In order to see the docstring we can use the `?` after the function name (without the `()`):"
   ]
  },
  {
   "cell_type": "code",
   "execution_count": null,
   "metadata": {},
   "outputs": [],
   "source": [
    "import numpy as np"
   ]
  },
  {
   "cell_type": "code",
   "execution_count": 43,
   "metadata": {},
   "outputs": [
    {
     "name": "stdout",
     "output_type": "stream",
     "text": [
      "\u001b[1;31mSignature:\u001b[0m\n",
      "\u001b[0mnp\u001b[0m\u001b[1;33m.\u001b[0m\u001b[0mmax\u001b[0m\u001b[1;33m(\u001b[0m\u001b[1;33m\n",
      "\u001b[0m    \u001b[0ma\u001b[0m\u001b[1;33m,\u001b[0m\u001b[1;33m\n",
      "\u001b[0m    \u001b[0maxis\u001b[0m\u001b[1;33m=\u001b[0m\u001b[1;32mNone\u001b[0m\u001b[1;33m,\u001b[0m\u001b[1;33m\n",
      "\u001b[0m    \u001b[0mout\u001b[0m\u001b[1;33m=\u001b[0m\u001b[1;32mNone\u001b[0m\u001b[1;33m,\u001b[0m\u001b[1;33m\n",
      "\u001b[0m    \u001b[0mkeepdims\u001b[0m\u001b[1;33m=\u001b[0m\u001b[1;33m<\u001b[0m\u001b[0mno\u001b[0m \u001b[0mvalue\u001b[0m\u001b[1;33m>\u001b[0m\u001b[1;33m,\u001b[0m\u001b[1;33m\n",
      "\u001b[0m    \u001b[0minitial\u001b[0m\u001b[1;33m=\u001b[0m\u001b[1;33m<\u001b[0m\u001b[0mno\u001b[0m \u001b[0mvalue\u001b[0m\u001b[1;33m>\u001b[0m\u001b[1;33m,\u001b[0m\u001b[1;33m\n",
      "\u001b[0m    \u001b[0mwhere\u001b[0m\u001b[1;33m=\u001b[0m\u001b[1;33m<\u001b[0m\u001b[0mno\u001b[0m \u001b[0mvalue\u001b[0m\u001b[1;33m>\u001b[0m\u001b[1;33m,\u001b[0m\u001b[1;33m\n",
      "\u001b[0m\u001b[1;33m)\u001b[0m\u001b[1;33m\u001b[0m\u001b[1;33m\u001b[0m\u001b[0m\n",
      "\u001b[1;31mDocstring:\u001b[0m\n",
      "Return the maximum of an array or maximum along an axis.\n",
      "\n",
      "Parameters\n",
      "----------\n",
      "a : array_like\n",
      "    Input data.\n",
      "axis : None or int or tuple of ints, optional\n",
      "    Axis or axes along which to operate.  By default, flattened input is\n",
      "    used.\n",
      "\n",
      "    .. versionadded:: 1.7.0\n",
      "\n",
      "    If this is a tuple of ints, the maximum is selected over multiple axes,\n",
      "    instead of a single axis or all the axes as before.\n",
      "out : ndarray, optional\n",
      "    Alternative output array in which to place the result.  Must\n",
      "    be of the same shape and buffer length as the expected output.\n",
      "    See :ref:`ufuncs-output-type` for more details.\n",
      "\n",
      "keepdims : bool, optional\n",
      "    If this is set to True, the axes which are reduced are left\n",
      "    in the result as dimensions with size one. With this option,\n",
      "    the result will broadcast correctly against the input array.\n",
      "\n",
      "    If the default value is passed, then `keepdims` will not be\n",
      "    passed through to the `amax` method of sub-classes of\n",
      "    `ndarray`, however any non-default value will be.  If the\n",
      "    sub-class' method does not implement `keepdims` any\n",
      "    exceptions will be raised.\n",
      "\n",
      "initial : scalar, optional\n",
      "    The minimum value of an output element. Must be present to allow\n",
      "    computation on empty slice. See `~numpy.ufunc.reduce` for details.\n",
      "\n",
      "    .. versionadded:: 1.15.0\n",
      "\n",
      "where : array_like of bool, optional\n",
      "    Elements to compare for the maximum. See `~numpy.ufunc.reduce`\n",
      "    for details.\n",
      "\n",
      "    .. versionadded:: 1.17.0\n",
      "\n",
      "Returns\n",
      "-------\n",
      "amax : ndarray or scalar\n",
      "    Maximum of `a`. If `axis` is None, the result is a scalar value.\n",
      "    If `axis` is given, the result is an array of dimension\n",
      "    ``a.ndim - 1``.\n",
      "\n",
      "See Also\n",
      "--------\n",
      "amin :\n",
      "    The minimum value of an array along a given axis, propagating any NaNs.\n",
      "nanmax :\n",
      "    The maximum value of an array along a given axis, ignoring any NaNs.\n",
      "maximum :\n",
      "    Element-wise maximum of two arrays, propagating any NaNs.\n",
      "fmax :\n",
      "    Element-wise maximum of two arrays, ignoring any NaNs.\n",
      "argmax :\n",
      "    Return the indices of the maximum values.\n",
      "\n",
      "nanmin, minimum, fmin\n",
      "\n",
      "Notes\n",
      "-----\n",
      "NaN values are propagated, that is if at least one item is NaN, the\n",
      "corresponding max value will be NaN as well. To ignore NaN values\n",
      "(MATLAB behavior), please use nanmax.\n",
      "\n",
      "Don't use `amax` for element-wise comparison of 2 arrays; when\n",
      "``a.shape[0]`` is 2, ``maximum(a[0], a[1])`` is faster than\n",
      "``amax(a, axis=0)``.\n",
      "\n",
      "Examples\n",
      "--------\n",
      ">>> a = np.arange(4).reshape((2,2))\n",
      ">>> a\n",
      "array([[0, 1],\n",
      "       [2, 3]])\n",
      ">>> np.amax(a)           # Maximum of the flattened array\n",
      "3\n",
      ">>> np.amax(a, axis=0)   # Maxima along the first axis\n",
      "array([2, 3])\n",
      ">>> np.amax(a, axis=1)   # Maxima along the second axis\n",
      "array([1, 3])\n",
      ">>> np.amax(a, where=[False, True], initial=-1, axis=0)\n",
      "array([-1,  3])\n",
      ">>> b = np.arange(5, dtype=float)\n",
      ">>> b[2] = np.NaN\n",
      ">>> np.amax(b)\n",
      "nan\n",
      ">>> np.amax(b, where=~np.isnan(b), initial=-1)\n",
      "4.0\n",
      ">>> np.nanmax(b)\n",
      "4.0\n",
      "\n",
      "You can use an initial value to compute the maximum of an empty slice, or\n",
      "to initialize it to a different value:\n",
      "\n",
      ">>> np.amax([[-50], [10]], axis=-1, initial=0)\n",
      "array([ 0, 10])\n",
      "\n",
      "Notice that the initial value is used as one of the elements for which the\n",
      "maximum is determined, unlike for the default argument Python's max\n",
      "function, which is only used for empty iterables.\n",
      "\n",
      ">>> np.amax([5], initial=6)\n",
      "6\n",
      ">>> max([5], default=6)\n",
      "5\n",
      "\u001b[1;31mFile:\u001b[0m      c:\\users\\lena_\\appdata\\local\\programs\\python\\python39\\lib\\site-packages\\numpy\\core\\fromnumeric.py\n",
      "\u001b[1;31mType:\u001b[0m      function\n"
     ]
    }
   ],
   "source": [
    "np.max?"
   ]
  },
  {
   "cell_type": "code",
   "execution_count": 44,
   "metadata": {},
   "outputs": [
    {
     "name": "stdout",
     "output_type": "stream",
     "text": [
      "\u001b[1;31mSignature:\u001b[0m \u001b[0mnp\u001b[0m\u001b[1;33m.\u001b[0m\u001b[0mclip\u001b[0m\u001b[1;33m(\u001b[0m\u001b[0ma\u001b[0m\u001b[1;33m,\u001b[0m \u001b[0ma_min\u001b[0m\u001b[1;33m,\u001b[0m \u001b[0ma_max\u001b[0m\u001b[1;33m,\u001b[0m \u001b[0mout\u001b[0m\u001b[1;33m=\u001b[0m\u001b[1;32mNone\u001b[0m\u001b[1;33m,\u001b[0m \u001b[1;33m**\u001b[0m\u001b[0mkwargs\u001b[0m\u001b[1;33m)\u001b[0m\u001b[1;33m\u001b[0m\u001b[1;33m\u001b[0m\u001b[0m\n",
      "\u001b[1;31mDocstring:\u001b[0m\n",
      "Clip (limit) the values in an array.\n",
      "\n",
      "Given an interval, values outside the interval are clipped to\n",
      "the interval edges.  For example, if an interval of ``[0, 1]``\n",
      "is specified, values smaller than 0 become 0, and values larger\n",
      "than 1 become 1.\n",
      "\n",
      "Equivalent to but faster than ``np.minimum(a_max, np.maximum(a, a_min))``.\n",
      "\n",
      "No check is performed to ensure ``a_min < a_max``.\n",
      "\n",
      "Parameters\n",
      "----------\n",
      "a : array_like\n",
      "    Array containing elements to clip.\n",
      "a_min, a_max : array_like or None\n",
      "    Minimum and maximum value. If ``None``, clipping is not performed on\n",
      "    the corresponding edge. Only one of `a_min` and `a_max` may be\n",
      "    ``None``. Both are broadcast against `a`.\n",
      "out : ndarray, optional\n",
      "    The results will be placed in this array. It may be the input\n",
      "    array for in-place clipping.  `out` must be of the right shape\n",
      "    to hold the output.  Its type is preserved.\n",
      "**kwargs\n",
      "    For other keyword-only arguments, see the\n",
      "    :ref:`ufunc docs <ufuncs.kwargs>`.\n",
      "\n",
      "    .. versionadded:: 1.17.0\n",
      "\n",
      "Returns\n",
      "-------\n",
      "clipped_array : ndarray\n",
      "    An array with the elements of `a`, but where values\n",
      "    < `a_min` are replaced with `a_min`, and those > `a_max`\n",
      "    with `a_max`.\n",
      "\n",
      "See Also\n",
      "--------\n",
      ":ref:`ufuncs-output-type`\n",
      "\n",
      "Notes\n",
      "-----\n",
      "When `a_min` is greater than `a_max`, `clip` returns an\n",
      "array in which all values are equal to `a_max`,\n",
      "as shown in the second example.\n",
      "\n",
      "Examples\n",
      "--------\n",
      ">>> a = np.arange(10)\n",
      ">>> a\n",
      "array([0, 1, 2, 3, 4, 5, 6, 7, 8, 9])\n",
      ">>> np.clip(a, 1, 8)\n",
      "array([1, 1, 2, 3, 4, 5, 6, 7, 8, 8])\n",
      ">>> np.clip(a, 8, 1)\n",
      "array([1, 1, 1, 1, 1, 1, 1, 1, 1, 1])\n",
      ">>> np.clip(a, 3, 6, out=a)\n",
      "array([3, 3, 3, 3, 4, 5, 6, 6, 6, 6])\n",
      ">>> a\n",
      "array([3, 3, 3, 3, 4, 5, 6, 6, 6, 6])\n",
      ">>> a = np.arange(10)\n",
      ">>> a\n",
      "array([0, 1, 2, 3, 4, 5, 6, 7, 8, 9])\n",
      ">>> np.clip(a, [3, 4, 1, 1, 1, 4, 4, 4, 4, 4], 8)\n",
      "array([3, 4, 2, 3, 4, 5, 6, 7, 8, 8])\n",
      "\u001b[1;31mFile:\u001b[0m      c:\\users\\lena_\\appdata\\local\\programs\\python\\python39\\lib\\site-packages\\numpy\\core\\fromnumeric.py\n",
      "\u001b[1;31mType:\u001b[0m      function\n"
     ]
    }
   ],
   "source": [
    "np.clip?"
   ]
  },
  {
   "cell_type": "markdown",
   "metadata": {},
   "source": [
    "#### How do we create a docstring for our own functions?"
   ]
  },
  {
   "cell_type": "markdown",
   "metadata": {},
   "source": [
    "While there are several commonly used styles for creating docstrings for functions, the **Google Style** is favored by many for its simplicity and readability. Here is an example:"
   ]
  },
  {
   "cell_type": "code",
   "execution_count": 45,
   "metadata": {},
   "outputs": [],
   "source": [
    "def add(num1, num2):\n",
    "    \"\"\"Adds two numbers and returns the sum.\n",
    "\n",
    "    Args:\n",
    "        num1 (int or float): The first addend.\n",
    "        num2 (int or float): The second addend.\n",
    "\n",
    "    Returns:\n",
    "        int or float: The sum of `num1` and `num2`.\n",
    "    \"\"\"\n",
    "    return num1 + num2\n"
   ]
  },
  {
   "cell_type": "code",
   "execution_count": 46,
   "metadata": {},
   "outputs": [
    {
     "name": "stdout",
     "output_type": "stream",
     "text": [
      "\u001b[1;31mSignature:\u001b[0m \u001b[0madd\u001b[0m\u001b[1;33m(\u001b[0m\u001b[0mnum1\u001b[0m\u001b[1;33m,\u001b[0m \u001b[0mnum2\u001b[0m\u001b[1;33m)\u001b[0m\u001b[1;33m\u001b[0m\u001b[1;33m\u001b[0m\u001b[0m\n",
      "\u001b[1;31mDocstring:\u001b[0m\n",
      "Adds two numbers and returns the sum.\n",
      "\n",
      "Args:\n",
      "    num1 (int or float): The first addend.\n",
      "    num2 (int or float): The second addend.\n",
      "\n",
      "Returns:\n",
      "    int or float: The sum of `num1` and `num2`.\n",
      "\u001b[1;31mFile:\u001b[0m      c:\\users\\lena_\\appdata\\local\\temp\\ipykernel_86704\\3424313525.py\n",
      "\u001b[1;31mType:\u001b[0m      function\n"
     ]
    }
   ],
   "source": [
    "add?"
   ]
  }
 ],
 "metadata": {
  "kernelspec": {
   "display_name": "workshop-env",
   "language": "python",
   "name": "python3"
  },
  "language_info": {
   "codemirror_mode": {
    "name": "ipython",
    "version": 3
   },
   "file_extension": ".py",
   "mimetype": "text/x-python",
   "name": "python",
   "nbconvert_exporter": "python",
   "pygments_lexer": "ipython3",
   "version": "3.9.7"
  }
 },
 "nbformat": 4,
 "nbformat_minor": 2
}
