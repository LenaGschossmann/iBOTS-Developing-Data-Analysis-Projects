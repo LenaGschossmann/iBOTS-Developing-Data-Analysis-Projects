{
 "cells": [
  {
   "cell_type": "code",
   "execution_count": 3,
   "metadata": {},
   "outputs": [],
   "source": [
    "import pandas as pd\n",
    "import numpy as np"
   ]
  },
  {
   "cell_type": "code",
   "execution_count": 9,
   "metadata": {},
   "outputs": [
    {
     "name": "stdout",
     "output_type": "stream",
     "text": [
      "Min: 0.0 and Max: 1.0.\n"
     ]
    }
   ],
   "source": [
    "# Test normalization by CLI\n",
    "\n",
    "!python ../clis/transform_array.py ../data/raw/array.npy ../data/processed/ --transform normalize\n",
    "norm_array = np.load(\"../data/processed/array_normalized.npy\")\n",
    "\n",
    "print(f'Min: {norm_array.min()} and Max: {norm_array.max()}.')"
   ]
  },
  {
   "cell_type": "code",
   "execution_count": 10,
   "metadata": {},
   "outputs": [
    {
     "name": "stdout",
     "output_type": "stream",
     "text": [
      "Mean: 1.3855583347321954e-16 and Std: 1.0.\n"
     ]
    }
   ],
   "source": [
    "# Test standardization by CLI\n",
    "\n",
    "!python ../clis/transform_array.py ../data/raw/array.npy ../data/processed/ --transform standardize\n",
    "std_array = np.load(\"../data/processed/array_standardized.npy\")\n",
    "\n",
    "print(f'Mean: {std_array.mean()} and Std: {std_array.std()}.')"
   ]
  },
  {
   "cell_type": "code",
   "execution_count": null,
   "metadata": {},
   "outputs": [],
   "source": [
    "# Test standardization by CLI\n",
    "\n",
    "!python ../clis/transform_array.py ../data/raw/array.npy ../data/processed/ --transform standardize\n",
    "std_array = np.load(\"../data/processed/array_standardized.npy\")"
   ]
  },
  {
   "cell_type": "code",
   "execution_count": 11,
   "metadata": {},
   "outputs": [],
   "source": [
    "# Test valid trial extraction\n",
    "\n",
    "!python ..\\clis\\extract_valid_trials_cli.py ../data/raw/session.csv ../data/processed/ --subject all\n",
    "\n",
    "df = pd.read_csv(\"../data/processed/session_valid_all.csv\")\n"
   ]
  },
  {
   "cell_type": "code",
   "execution_count": 19,
   "metadata": {},
   "outputs": [
    {
     "name": "stdout",
     "output_type": "stream",
     "text": [
      "The subject with ID 4 had the most trials.\n"
     ]
    }
   ],
   "source": [
    "trials_by_subject = df.groupby(['subject_id']).size()\n",
    "print(f'The subject with ID {trials_by_subject.argmax()} had the most valid trials.')"
   ]
  }
 ],
 "metadata": {
  "kernelspec": {
   "display_name": "Python 3",
   "language": "python",
   "name": "python3"
  },
  "language_info": {
   "codemirror_mode": {
    "name": "ipython",
    "version": 3
   },
   "file_extension": ".py",
   "mimetype": "text/x-python",
   "name": "python",
   "nbconvert_exporter": "python",
   "pygments_lexer": "ipython3",
   "version": "3.9.7"
  }
 },
 "nbformat": 4,
 "nbformat_minor": 2
}
